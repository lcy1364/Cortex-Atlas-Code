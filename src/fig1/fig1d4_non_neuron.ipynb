{
 "cells": [
  {
   "cell_type": "markdown",
   "id": "7507eebc-0f06-461e-b5c1-4344e3420f39",
   "metadata": {},
   "source": [
    "### Load required libraries and data"
   ]
  },
  {
   "cell_type": "code",
   "execution_count": 1,
   "id": "3879a8e8-9b81-4d3a-b0da-7330a9d48d1c",
   "metadata": {},
   "outputs": [
    {
     "name": "stderr",
     "output_type": "stream",
     "text": [
      "2024-08-03 12:16:34.318291: I external/local_xla/xla/tsl/cuda/cudart_stub.cc:32] Could not find cuda drivers on your machine, GPU will not be used.\n",
      "2024-08-03 12:16:34.324826: I external/local_xla/xla/tsl/cuda/cudart_stub.cc:32] Could not find cuda drivers on your machine, GPU will not be used.\n",
      "2024-08-03 12:16:34.338098: E external/local_xla/xla/stream_executor/cuda/cuda_fft.cc:485] Unable to register cuFFT factory: Attempting to register factory for plugin cuFFT when one has already been registered\n",
      "2024-08-03 12:16:34.358214: E external/local_xla/xla/stream_executor/cuda/cuda_dnn.cc:8454] Unable to register cuDNN factory: Attempting to register factory for plugin cuDNN when one has already been registered\n",
      "2024-08-03 12:16:34.364301: E external/local_xla/xla/stream_executor/cuda/cuda_blas.cc:1452] Unable to register cuBLAS factory: Attempting to register factory for plugin cuBLAS when one has already been registered\n",
      "2024-08-03 12:16:34.381367: I tensorflow/core/platform/cpu_feature_guard.cc:210] This TensorFlow binary is optimized to use available CPU instructions in performance-critical operations.\n",
      "To enable the following instructions: AVX2 FMA, in other operations, rebuild TensorFlow with the appropriate compiler flags.\n",
      "2024-08-03 12:16:35.369211: W tensorflow/compiler/tf2tensorrt/utils/py_utils.cc:38] TF-TRT Warning: Could not find TensorRT\n"
     ]
    }
   ],
   "source": [
    "import os\n",
    "import anndata as ad\n",
    "import pandas as pd\n",
    "import numpy as np\n",
    "import scipy as sp\n",
    "import seaborn as sns\n",
    "import copy\n",
    "import re\n",
    "import glob\n",
    "import pickle\n",
    "import matplotlib.pyplot as plt\n",
    "%matplotlib inline\n",
    "import warnings\n",
    "from datetime import datetime\n",
    "from igraph import *\n",
    "from sccoda.util import comp_ana as mod\n",
    "from sccoda.util import cell_composition_data as dat\n",
    "from sccoda.util import data_visualization as viz\n",
    "import arviz as az\n",
    "\n",
    "pwd = os.getcwd()\n",
    "\n",
    "def run_scCODA(cell_count, random_effect, split_key, split_value, labels_keys, tests, region, covariates, formula, diagnostic_plots=True, figsize=(20,6)):\n",
    "    for j in labels_keys:\n",
    "        print(str(datetime.now()) + \" -- Starting labels_keys=\" + j)\n",
    "        cell_count = cell_count.loc[[i in split_value for i in cell_count[split_key]], :]\n",
    "        counts = sp.sparse.csr_matrix(np.random.poisson(1, size=(cell_count.shape[0], 0)), dtype=np.float32)\n",
    "        adata = ad.AnnData(counts)\n",
    "        adata.obs_names = cell_count.index\n",
    "        adata.obs = cell_count\n",
    "\n",
    "        abundances = dat.from_scanpy(\n",
    "            adata,\n",
    "            cell_type_identifier=j,\n",
    "            sample_identifier=random_effect,\n",
    "        )\n",
    "        tmp = adata.obs.loc[:, covariates]\n",
    "        tmp.drop_duplicates(inplace=True)\n",
    "        tmp.index = tmp.library_prep\n",
    "        tmp.drop([random_effect], axis=1, inplace=True)\n",
    "        abundances.obs = tmp.loc[abundances.obs.index, :]\n",
    "\n",
    "        if diagnostic_plots == True:\n",
    "            tmp = abundances.obs.copy()\n",
    "            for i in tmp.columns:\n",
    "                if i.endswith(\"_codes\"):\n",
    "                    continue\n",
    "                tmp[i] = tmp[i].astype(\"category\")\n",
    "                tmp[i + \"_codes\"] = tmp[i].cat.codes\n",
    "                tmp.drop(i, axis=1, inplace=True)\n",
    "            results = np.zeros((tmp.shape[1],tmp.shape[1]))\n",
    "\n",
    "            for a in range(tmp.shape[1]):\n",
    "                for b in range(tmp.shape[1]):\n",
    "                    results[a,b] = sp.stats.spearmanr(tmp.iloc[:,a], tmp.iloc[:,b])[0]\n",
    "\n",
    "            results = pd.DataFrame(results, columns=tmp.columns, index=tmp.columns)\n",
    "            sns.heatmap(results);\n",
    "            plt.show()\n",
    "            try:\n",
    "                boxplots(abundances, feature_name=\"region\", figsize=figsize, y_scale=\"log_relative\")\n",
    "            except:\n",
    "                boxplots(abundances, feature_name=\"species\", figsize=figsize, y_scale=\"log_relative\")\n",
    "            boxplots(abundances, feature_name=\"sex\", figsize=figsize, y_scale=\"log_relative\")\n",
    "            plt.show()\n",
    "\n",
    "        outfile = \" \".join(split_value) + \"_\" + j + \"_results.csv\"\n",
    "              \n",
    "        for k in tests:\n",
    "            print(str(datetime.now()) + \" -- testing across \" + k)\n",
    "            if (abundances.obs[k].dtype == \"object\" and len(np.unique(abundances.obs[k])) < 3) or abundances.obs[k].dtype != \"object\":\n",
    "                if os.path.exists(os.path.join(pwd, \"output\", region, k)) is False:\n",
    "                    os.makedirs(os.path.join(pwd, \"output\", region, k))\n",
    "                i = 0\n",
    "                cell_types = abundances.var.index\n",
    "                try:\n",
    "                    del results_table\n",
    "                except:\n",
    "                    pass\n",
    "\n",
    "                while i < cell_types.shape[0]:    \n",
    "\n",
    "                    ct = cell_types[i]\n",
    "                    print(\"Reference: \" + ct)\n",
    "\n",
    "                    pickle_file = os.path.join(pwd, \"output\", region, k, ct.replace(\"/\", \" \") + \".pkl\")\n",
    "                    if os.path.exists(pickle_file):\n",
    "                        with open(pickle_file, 'rb') as pickle_load:\n",
    "                            results = pickle.load(pickle_load)\n",
    "\n",
    "                    else:\n",
    "                        models = mod.CompositionalAnalysis(abundances, formula=formula + k, reference_cell_type=ct)\n",
    "                        results = models.sample_hmc()\n",
    "                        results.save(pickle_file)\n",
    "\n",
    "                    accepted = results.sample_stats[\"is_accepted\"].to_numpy()\n",
    "\n",
    "                    if accepted.sum() / accepted.shape[1] < 0.6:\n",
    "                        del results\n",
    "                        os.remove(pickle_file)\n",
    "                        print(\"Did not achieve acceptance threshold, trying again\")\n",
    "                        continue\n",
    "\n",
    "                    else:\n",
    "                        print(\"Converged!\")\n",
    "                        i = i + 1\n",
    "\n",
    "                    current_results = results.summary_prepare()[1]\n",
    "                    current_results = current_results.reset_index()\n",
    "                    current_results[\"Reference Cell Type\"] = ct\n",
    "\n",
    "                    try:\n",
    "                        results_table = pd.concat([results_table, current_results], axis=0)\n",
    "                    except:\n",
    "                        results_table = current_results.copy()\n",
    "\n",
    "                results_table.to_csv(os.path.join(pwd, \"output\", region, k, outfile))\n",
    "            else:\n",
    "                for l in np.unique(abundances.obs[k]):\n",
    "                    if os.path.exists(os.path.join(pwd, \"output\", region, k, l)) is False:\n",
    "                        os.makedirs(os.path.join(pwd, \"output\", region, k, l))\n",
    "\n",
    "                    print(\"Reference \" + k + \": \" + l)\n",
    "                    i = 0\n",
    "                    cell_types = abundances.var.index\n",
    "                    try:\n",
    "                        del results_table\n",
    "                    except:\n",
    "                        pass\n",
    "\n",
    "                    while i < cell_types.shape[0]:    \n",
    "\n",
    "                        ct = cell_types[i]\n",
    "                        print(\"Reference cell type: \" + ct)\n",
    "\n",
    "                        pickle_file = os.path.join(pwd, \"output\", region, k, l, ct.replace(\"/\", \" \") + \".pkl\")\n",
    "                        if os.path.exists(pickle_file):\n",
    "                            with open(pickle_file, 'rb') as pickle_load:\n",
    "                                results = pickle.load(pickle_load)\n",
    "\n",
    "                        else:\n",
    "                            models = mod.CompositionalAnalysis(abundances, formula=formula + \"C(\" + k + \", Treatment('\" + l + \"'))\", reference_cell_type=ct)\n",
    "                            results = models.sample_hmc()\n",
    "                            results.save(pickle_file)\n",
    "\n",
    "                        accepted = results.sample_stats[\"is_accepted\"].to_numpy()\n",
    "\n",
    "                        if accepted.sum() / accepted.shape[1] < 0.6:\n",
    "                            del results\n",
    "                            os.remove(pickle_file)\n",
    "                            print(\"Did not achieve acceptance threshold, trying again\")\n",
    "                            continue\n",
    "\n",
    "                        else:\n",
    "                            print(\"Converged!\")\n",
    "                            i = i + 1\n",
    "\n",
    "                        current_results = results.summary_prepare()[1]\n",
    "                        current_results = current_results.reset_index()\n",
    "                        current_results[\"Reference Cell Type\"] = ct\n",
    "\n",
    "                        try:\n",
    "                            results_table = pd.concat([results_table, current_results], axis=0)\n",
    "                        except:\n",
    "                            results_table = current_results.copy()\n",
    "\n",
    "                    results_table.to_csv(os.path.join(pwd, \"output\", region, k, l, outfile)) \n",
    "            \n",
    "def boxplots(\n",
    "        data,\n",
    "        feature_name,\n",
    "        y_scale=\"relative\",\n",
    "        plot_facets=False,\n",
    "        add_dots=False,\n",
    "        cell_types=None,\n",
    "        args_boxplot={},\n",
    "        args_swarmplot={},\n",
    "        figsize=None,\n",
    "        dpi=100,\n",
    "        cmap=\"Blues\",\n",
    "        plot_legend=True,\n",
    "        level_order=None):\n",
    "    \"\"\"\n",
    "    Grouped boxplot visualization. The cell counts for each cell type are shown as a group of boxplots,\n",
    "    with intra--group separation by a covariate from data.obs.\n",
    "    The cell type groups can either be ordered along the x-axis of a single plot (plot_facets=False) or as plot facets (plot_facets=True).\n",
    "    Parameters\n",
    "    ----------\n",
    "    data\n",
    "        A scCODA-compatible data object\n",
    "    feature_name\n",
    "        The name of the feature in data.obs to plot\n",
    "    y_scale\n",
    "        Transformation to of cell counts. Options: \"relative\" - Relative abundance, \"log\" - log(count), \"count\" - absolute abundance (cell counts)\n",
    "    plot_facets\n",
    "        If False, plot cell types on the x-axis. If True, plot as facets\n",
    "    add_dots\n",
    "        If True, overlay a scatterplot with one dot for each data point\n",
    "    cell_types\n",
    "        Subset of cell types that should be plotted\n",
    "    args_boxplot\n",
    "        Arguments passed to sns.boxplot\n",
    "    args_swarmplot\n",
    "            Arguments passed to sns.swarmplot\n",
    "    figsize\n",
    "        figure size\n",
    "    dpi\n",
    "        dpi setting\n",
    "    cmap\n",
    "        The seaborn color map for the barplot\n",
    "    plot_legend\n",
    "        If True, adds a legend\n",
    "    level_order\n",
    "        Custom ordering of bars on the x-axis\n",
    "    Returns\n",
    "    -------\n",
    "    Depending on `plot_facets`, returns a :class:`~plt.AxesSubplot` (`plot_facets = False`) or :class:`~sns.axisgrid.FacetGrid` (`plot_facets = True`) object\n",
    "    ax\n",
    "        if `plot_facets = False`\n",
    "    g\n",
    "        if `plot_facets = True`\n",
    "    \"\"\"\n",
    "\n",
    "    # y scale transformations\n",
    "    if y_scale == \"relative\":\n",
    "        sample_sums = np.sum(data.X, axis=1, keepdims=True)\n",
    "        X = data.X/sample_sums\n",
    "        value_name = \"Proportion\"\n",
    "    elif y_scale == \"log_relative\":\n",
    "        sample_sums = np.sum(data.X, axis=1, keepdims=True)\n",
    "        X = np.log10((data.X + 1)/(sample_sums + data.shape[1]))\n",
    "        value_name = \"log(Proportion)\"\n",
    "    # add pseudocount 1 if using log scale (needs to be improved)\n",
    "    elif y_scale == \"log\":\n",
    "        X = np.log10(data.X + 1)\n",
    "        value_name = \"log(count)\"\n",
    "    elif y_scale == \"count\":\n",
    "        X = data.X\n",
    "        value_name = \"count\"\n",
    "    else:\n",
    "        raise ValueError(\"Invalid y_scale transformation\")\n",
    "\n",
    "    count_df = pd.DataFrame(X, columns=data.var.index, index=data.obs.index).\\\n",
    "        merge(data.obs[feature_name], left_index=True, right_index=True)\n",
    "    plot_df = pd.melt(count_df, id_vars=feature_name, var_name=\"Cell type\", value_name=value_name)\n",
    "    if cell_types is not None:\n",
    "        plot_df = plot_df[plot_df[\"Cell type\"].isin(cell_types)]\n",
    "\n",
    "    if plot_facets:\n",
    "\n",
    "        if level_order is None:\n",
    "            level_order = pd.unique(plot_df[feature_name])\n",
    "\n",
    "        K = X.shape[1]\n",
    "\n",
    "        g = sns.FacetGrid(\n",
    "            plot_df,\n",
    "            col=\"Cell type\",\n",
    "            sharey=False,\n",
    "            col_wrap=np.floor(np.sqrt(K)),\n",
    "            height=5,\n",
    "            aspect=2,\n",
    "        )\n",
    "        g.map(\n",
    "            sns.boxplot,\n",
    "            feature_name,\n",
    "            value_name,\n",
    "            palette=cmap,\n",
    "            order=level_order,\n",
    "            **args_boxplot\n",
    "        )\n",
    "\n",
    "        if add_dots:\n",
    "\n",
    "            if \"hue\" in args_swarmplot:\n",
    "                hue = args_swarmplot.pop(\"hue\")\n",
    "            else:\n",
    "                hue = None\n",
    "\n",
    "            if hue is None:\n",
    "                g.map(\n",
    "                    sns.swarmplot,\n",
    "                    feature_name,\n",
    "                    value_name,\n",
    "                    color=\"black\",\n",
    "                    order=level_order,\n",
    "                    **args_swarmplot\n",
    "                ).set_titles(\"{col_name}\")\n",
    "            else:\n",
    "                g.map(\n",
    "                    sns.swarmplot,\n",
    "                    feature_name,\n",
    "                    value_name,\n",
    "                    hue,\n",
    "                    order=level_order,\n",
    "                    **args_swarmplot\n",
    "                ).set_titles(\"{col_name}\")\n",
    "\n",
    "        return g\n",
    "\n",
    "    else:\n",
    "\n",
    "        if level_order:\n",
    "            args_boxplot[\"hue_order\"] = level_order\n",
    "            args_swarmplot[\"hue_order\"] = level_order\n",
    "\n",
    "        fig, ax = plt.subplots(figsize=figsize, dpi=dpi)\n",
    "\n",
    "        sns.boxplot(x=\"Cell type\", y=value_name, hue=feature_name, data=plot_df, fliersize=1,\n",
    "                    palette=cmap, ax=ax, **args_boxplot)\n",
    "\n",
    "        if add_dots:\n",
    "            sns.swarmplot(\n",
    "                x=\"Cell type\",\n",
    "                y=value_name,\n",
    "                data=plot_df,\n",
    "                hue=feature_name,\n",
    "                ax=ax,\n",
    "                dodge=True,\n",
    "                color=\"black\",\n",
    "                **args_swarmplot\n",
    "            )\n",
    "\n",
    "        cell_types = pd.unique(plot_df[\"Cell type\"])\n",
    "        ax.set_xticklabels(cell_types, rotation=90)\n",
    "\n",
    "        if plot_legend:\n",
    "            handles, labels = ax.get_legend_handles_labels()\n",
    "            handout = []\n",
    "            labelout = []\n",
    "            for h, l in zip(handles, labels):\n",
    "                if l not in labelout:\n",
    "                    labelout.append(l)\n",
    "                    handout.append(h)\n",
    "            ax.legend(handout, labelout, loc='upper left', bbox_to_anchor=(1, 1), ncol=1, title=feature_name)\n",
    "\n",
    "        plt.tight_layout()\n",
    "\n",
    "        return ax"
   ]
  },
  {
   "cell_type": "markdown",
   "id": "ccc8be42-8cd8-411b-a561-090cbee9f5f0",
   "metadata": {
    "tags": []
   },
   "source": [
    "#### Run scCODA on non-neuronal cells"
   ]
  },
  {
   "cell_type": "code",
   "execution_count": 10,
   "id": "0fbb4d62-e7dd-4f52-8330-54245adffe25",
   "metadata": {},
   "outputs": [
    {
     "name": "stderr",
     "output_type": "stream",
     "text": [
      "/tmp/ipykernel_1106723/3737267532.py:1: DtypeWarning: Columns (0) have mixed types. Specify dtype option on import or set low_memory=False.\n",
      "  cell_count = pd.read_csv(\"./8_wholeMeta.csv\")\n"
     ]
    }
   ],
   "source": [
    "cell_count = pd.read_csv(\"./8_wholeMeta.csv\")\n",
    "#cell_count[\"library_prep\"] = [re.sub(\"[ATGC]+-[0-9]{0,3}([^-]+)(-[0-9]+)?$\", \"\\\\1\", i) for i in cell_count.index]\n",
    "#cell_count = cell_count.loc[cell_count[\"dataset\"] != \"lein_10x_layer5_only\", :].copy()"
   ]
  },
  {
   "cell_type": "code",
   "execution_count": null,
   "id": "a6d38ca3-bd0b-4b82-907d-c15ebfd1e1b5",
   "metadata": {
    "scrolled": true,
    "tags": []
   },
   "outputs": [
    {
     "name": "stdout",
     "output_type": "stream",
     "text": [
      "2024-08-03 01:02:58.313722 -- Starting labels_keys=cross_area_subclass\n"
     ]
    },
    {
     "name": "stderr",
     "output_type": "stream",
     "text": [
      "/home/luomeng/miniconda3/envs/sccoda/lib/python3.9/site-packages/anndata/_core/anndata.py:841: UserWarning: \n",
      "AnnData expects .obs.index to contain strings, but got values like:\n",
      "    [0, 1, 2, 3, 4]\n",
      "\n",
      "    Inferred to be: integer\n",
      "\n",
      "  names = self._prep_dim_index(names, \"obs\")\n",
      "/home/luomeng/miniconda3/envs/sccoda/lib/python3.9/site-packages/anndata/_core/anndata.py:767: UserWarning: \n",
      "AnnData expects .obs.index to contain strings, but got values like:\n",
      "    [0, 1, 2, 3, 4]\n",
      "\n",
      "    Inferred to be: integer\n",
      "\n",
      "  value_idx = self._prep_dim_index(value.index, attr)\n"
     ]
    },
    {
     "name": "stdout",
     "output_type": "stream",
     "text": [
      "No covariate information specified!\n"
     ]
    },
    {
     "data": {
      "image/png": "[encoded data removed]",
      "text/plain": [
       "<Figure size 326x600 with 2 Axes>"
      ]
     },
     "metadata": {},
     "output_type": "display_data"
    },
    {
     "name": "stderr",
     "output_type": "stream",
     "text": [
      "/tmp/ipykernel_1106723/556620346.py:303: UserWarning: set_ticklabels() should only be used with a fixed number of ticks, i.e. after set_ticks() or using a FixedLocator.\n",
      "  ax.set_xticklabels(cell_types, rotation=90)\n",
      "/tmp/ipykernel_1106723/556620346.py:303: UserWarning: set_ticklabels() should only be used with a fixed number of ticks, i.e. after set_ticks() or using a FixedLocator.\n",
      "  ax.set_xticklabels(cell_types, rotation=90)\n"
     ]
    },
    {
     "data": {
      "image/png": "[encoded data removed]",
      "text/plain": [
       "<Figure size 2000x600 with 1 Axes>"
      ]
     },
     "metadata": {},
     "output_type": "display_data"
    },
    {
     "data": {
      "image/png": "[encoded data removed]",
      "text/plain": [
       "<Figure size 2000x600 with 1 Axes>"
      ]
     },
     "metadata": {},
     "output_type": "display_data"
    },
    {
     "name": "stdout",
     "output_type": "stream",
     "text": [
      "2024-08-03 01:02:59.970287 -- testing across region\n",
      "Reference region: A1\n",
      "Reference cell type: Astro\n",
      "Converged!\n",
      "Reference cell type: Endo\n",
      "Converged!\n",
      "Reference cell type: Micro/PVM\n",
      "Converged!\n",
      "Reference cell type: OPC\n",
      "Converged!\n",
      "Reference cell type: Oligo\n",
      "Converged!\n",
      "Reference cell type: VLMC\n",
      "Converged!\n",
      "Reference region: ACC\n",
      "Reference cell type: Astro\n",
      "Converged!\n",
      "Reference cell type: Endo\n",
      "Converged!\n",
      "Reference cell type: Micro/PVM\n",
      "Converged!\n",
      "Reference cell type: OPC\n",
      "Converged!\n",
      "Reference cell type: Oligo\n",
      "Converged!\n",
      "Reference cell type: VLMC\n"
     ]
    },
    {
     "name": "stderr",
     "output_type": "stream",
     "text": [
      "/home/luomeng/miniconda3/envs/sccoda/lib/python3.9/site-packages/numpy/lib/nanfunctions.py:1879: RuntimeWarning: Degrees of freedom <= 0 for slice.\n",
      "  var = nanvar(a, axis=axis, dtype=dtype, out=out, ddof=ddof,\n"
     ]
    },
    {
     "name": "stdout",
     "output_type": "stream",
     "text": [
      "Converged!\n",
      "Reference region: ANG\n",
      "Reference cell type: Astro\n",
      "Converged!\n",
      "Reference cell type: Endo\n",
      "Converged!\n",
      "Reference cell type: Micro/PVM\n",
      "Converged!\n",
      "Reference cell type: OPC\n",
      "Converged!\n",
      "Reference cell type: Oligo\n",
      "Converged!\n",
      "Reference cell type: VLMC\n",
      "Converged!\n",
      "Reference region: DLPFC\n",
      "Reference cell type: Astro\n"
     ]
    },
    {
     "name": "stderr",
     "output_type": "stream",
     "text": [
      "2024-08-03 01:03:05.406939: W tensorflow/core/common_runtime/gpu/gpu_device.cc:2343] Cannot dlopen some GPU libraries. Please make sure the missing libraries mentioned above are installed properly if you would like to use GPU. Follow the guide at https://www.tensorflow.org/install/gpu for how to download and setup the required libraries for your platform.\n",
      "Skipping registering GPU devices...\n"
     ]
    },
    {
     "name": "stdout",
     "output_type": "stream",
     "text": [
      "Zero counts encountered in data! Added a pseudocount of 0.5.\n"
     ]
    },
    {
     "name": "stderr",
     "output_type": "stream",
     "text": [
      "  0%|                                                 | 0/20000 [00:00<?, ?it/s]WARNING: All log messages before absl::InitializeLog() is called are written to STDERR\n",
      "I0000 00:00:1722618187.517782 1108561 service.cc:146] XLA service 0x7fbd34296250 initialized for platform Host (this does not guarantee that XLA will be used). Devices:\n",
      "I0000 00:00:1722618187.517870 1108561 service.cc:154]   StreamExecutor device (0): Host, Default Version\n",
      "2024-08-03 01:03:07.585912: I tensorflow/compiler/mlir/tensorflow/utils/dump_mlir_util.cc:268] disabling MLIR crash reproducer, set env var `MLIR_CRASH_REPRODUCER_DIRECTORY` to enable.\n",
      "I0000 00:00:1722618188.283423 1108561 device_compiler.h:188] Compiled cluster using XLA!  This line is logged at most once for the lifetime of the process.\n",
      "100%|█████████████████████████████████████| 20000/20000 [04:13<00:00, 78.78it/s]\n",
      "100%|█████████████████████████████████████| 20000/20000 [04:03<00:00, 82.08it/s]\n"
     ]
    },
    {
     "name": "stdout",
     "output_type": "stream",
     "text": [
      "MCMC sampling finished. (305.123 sec)\n",
      "Acceptance rate: 69.9%\n"
     ]
    },
    {
     "name": "stderr",
     "output_type": "stream",
     "text": [
      "/home/luomeng/miniconda3/envs/sccoda/lib/python3.9/site-packages/numpy/lib/nanfunctions.py:1879: RuntimeWarning: Degrees of freedom <= 0 for slice.\n",
      "  var = nanvar(a, axis=axis, dtype=dtype, out=out, ddof=ddof,\n"
     ]
    },
    {
     "name": "stdout",
     "output_type": "stream",
     "text": [
      "Converged!\n"
     ]
    },
    {
     "name": "stderr",
     "output_type": "stream",
     "text": [
      "/home/luomeng/miniconda3/envs/sccoda/lib/python3.9/site-packages/numpy/lib/nanfunctions.py:1879: RuntimeWarning: Degrees of freedom <= 0 for slice.\n",
      "  var = nanvar(a, axis=axis, dtype=dtype, out=out, ddof=ddof,\n"
     ]
    },
    {
     "name": "stdout",
     "output_type": "stream",
     "text": [
      "Reference cell type: Endo\n",
      "Zero counts encountered in data! Added a pseudocount of 0.5.\n"
     ]
    },
    {
     "name": "stderr",
     "output_type": "stream",
     "text": [
      " 68%|█████████████████████████▎           | 13649/20000 [02:55<01:19, 80.33it/s]IOPub message rate exceeded.\n",
      "The Jupyter server will temporarily stop sending output\n",
      "to the client in order to avoid crashing it.\n",
      "To change this limit, set the config variable\n",
      "`--ServerApp.iopub_msg_rate_limit`.\n",
      "\n",
      "Current values:\n",
      "ServerApp.iopub_msg_rate_limit=1000.0 (msgs/sec)\n",
      "ServerApp.rate_limit_window=3.0 (secs)\n",
      "\n"
     ]
    },
    {
     "name": "stdout",
     "output_type": "stream",
     "text": [
      "MCMC sampling finished. (316.402 sec)\n",
      "Acceptance rate: 48.4%\n",
      "Did not achieve acceptance threshold, trying again\n",
      "Reference cell type: Endo\n",
      "Zero counts encountered in data! Added a pseudocount of 0.5.\n"
     ]
    },
    {
     "name": "stderr",
     "output_type": "stream",
     "text": [
      "100%|█████████████████████████████████████| 20000/20000 [04:06<00:00, 81.28it/s]\n"
     ]
    },
    {
     "name": "stdout",
     "output_type": "stream",
     "text": [
      "WARNING:tensorflow:5 out of the last 5 calls to <function CompositionalModel.sampling.<locals>.sample_mcmc at 0x7fc3b3a03790> triggered tf.function retracing. Tracing is expensive and the excessive number of tracings could be due to (1) creating @tf.function repeatedly in a loop, (2) passing tensors with different shapes, (3) passing Python objects instead of tensors. For (1), please define your @tf.function outside of the loop. For (2), @tf.function has reduce_retracing=True option that can avoid unnecessary retracing. For (3), please refer to https://www.tensorflow.org/guide/function#controlling_retracing and https://www.tensorflow.org/api_docs/python/tf/function for  more details.\n",
      "MCMC sampling finished. (309.303 sec)\n",
      "Acceptance rate: 49.8%\n",
      "Did not achieve acceptance threshold, trying again\n",
      "Reference cell type: Endo\n",
      "Zero counts encountered in data! Added a pseudocount of 0.5.\n"
     ]
    },
    {
     "name": "stderr",
     "output_type": "stream",
     "text": [
      "100%|█████████████████████████████████████| 20000/20000 [04:19<00:00, 77.22it/s]\n"
     ]
    },
    {
     "name": "stdout",
     "output_type": "stream",
     "text": [
      "WARNING:tensorflow:6 out of the last 6 calls to <function CompositionalModel.sampling.<locals>.sample_mcmc at 0x7fc330256430> triggered tf.function retracing. Tracing is expensive and the excessive number of tracings could be due to (1) creating @tf.function repeatedly in a loop, (2) passing tensors with different shapes, (3) passing Python objects instead of tensors. For (1), please define your @tf.function outside of the loop. For (2), @tf.function has reduce_retracing=True option that can avoid unnecessary retracing. For (3), please refer to https://www.tensorflow.org/guide/function#controlling_retracing and https://www.tensorflow.org/api_docs/python/tf/function for  more details.\n",
      "MCMC sampling finished. (323.876 sec)\n",
      "Acceptance rate: 53.7%\n",
      "Did not achieve acceptance threshold, trying again\n",
      "Reference cell type: Endo\n",
      "Zero counts encountered in data! Added a pseudocount of 0.5.\n"
     ]
    },
    {
     "name": "stderr",
     "output_type": "stream",
     "text": [
      "100%|█████████████████████████████████████| 20000/20000 [04:08<00:00, 80.57it/s]\n"
     ]
    },
    {
     "name": "stdout",
     "output_type": "stream",
     "text": [
      "MCMC sampling finished. (311.044 sec)\n",
      "Acceptance rate: 41.8%\n",
      "Did not achieve acceptance threshold, trying again\n",
      "Reference cell type: Endo\n",
      "Zero counts encountered in data! Added a pseudocount of 0.5.\n"
     ]
    },
    {
     "name": "stderr",
     "output_type": "stream",
     "text": [
      "100%|█████████████████████████████████████| 20000/20000 [04:16<00:00, 77.87it/s]\n"
     ]
    },
    {
     "name": "stdout",
     "output_type": "stream",
     "text": [
      "MCMC sampling finished. (322.066 sec)\n",
      "Acceptance rate: 38.0%\n",
      "Did not achieve acceptance threshold, trying again\n",
      "Reference cell type: Endo\n",
      "Zero counts encountered in data! Added a pseudocount of 0.5.\n"
     ]
    },
    {
     "name": "stderr",
     "output_type": "stream",
     "text": [
      "100%|█████████████████████████████████████| 20000/20000 [04:20<00:00, 76.81it/s]\n"
     ]
    },
    {
     "name": "stdout",
     "output_type": "stream",
     "text": [
      "MCMC sampling finished. (326.645 sec)\n",
      "Acceptance rate: 32.6%\n",
      "Did not achieve acceptance threshold, trying again\n",
      "Reference cell type: Endo\n",
      "Zero counts encountered in data! Added a pseudocount of 0.5.\n"
     ]
    },
    {
     "name": "stderr",
     "output_type": "stream",
     "text": [
      "100%|█████████████████████████████████████| 20000/20000 [04:23<00:00, 75.83it/s]\n"
     ]
    },
    {
     "name": "stdout",
     "output_type": "stream",
     "text": [
      "MCMC sampling finished. (329.444 sec)\n",
      "Acceptance rate: 57.6%\n",
      "Did not achieve acceptance threshold, trying again\n",
      "Reference cell type: Endo\n",
      "Zero counts encountered in data! Added a pseudocount of 0.5.\n"
     ]
    },
    {
     "name": "stderr",
     "output_type": "stream",
     "text": [
      " 57%|█████████████████████                | 11380/20000 [02:36<01:57, 73.34it/s]"
     ]
    },
    {
     "name": "stdout",
     "output_type": "stream",
     "text": [
      "MCMC sampling finished. (348.522 sec)\n",
      "Acceptance rate: 40.7%\n",
      "Did not achieve acceptance threshold, trying again\n",
      "Reference cell type: Endo\n",
      "Zero counts encountered in data! Added a pseudocount of 0.5.\n"
     ]
    },
    {
     "name": "stderr",
     "output_type": "stream",
     "text": [
      "100%|█████████████████████████████████████| 20000/20000 [04:36<00:00, 72.44it/s]\n"
     ]
    },
    {
     "name": "stdout",
     "output_type": "stream",
     "text": [
      "MCMC sampling finished. (346.960 sec)\n",
      "Acceptance rate: 64.5%\n",
      "Converged!\n",
      "Reference cell type: Micro/PVM\n",
      "Zero counts encountered in data! Added a pseudocount of 0.5.\n"
     ]
    },
    {
     "name": "stderr",
     "output_type": "stream",
     "text": [
      " 20%|███████▍                              | 3940/20000 [00:52<03:26, 77.93it/s]IOPub message rate exceeded.\n",
      "The Jupyter server will temporarily stop sending output\n",
      "to the client in order to avoid crashing it.\n",
      "To change this limit, set the config variable\n",
      "`--ServerApp.iopub_msg_rate_limit`.\n",
      "\n",
      "Current values:\n",
      "ServerApp.iopub_msg_rate_limit=1000.0 (msgs/sec)\n",
      "ServerApp.rate_limit_window=3.0 (secs)\n",
      "\n"
     ]
    },
    {
     "name": "stdout",
     "output_type": "stream",
     "text": [
      "Did not achieve acceptance threshold, trying again\n",
      "Reference cell type: Micro/PVM\n",
      "Zero counts encountered in data! Added a pseudocount of 0.5.\n"
     ]
    },
    {
     "name": "stderr",
     "output_type": "stream",
     "text": [
      "100%|█████████████████████████████████████| 20000/20000 [04:09<00:00, 80.18it/s]\n"
     ]
    },
    {
     "name": "stdout",
     "output_type": "stream",
     "text": [
      "MCMC sampling finished. (314.119 sec)\n",
      "Acceptance rate: 48.0%\n",
      "Did not achieve acceptance threshold, trying again\n",
      "Reference cell type: Micro/PVM\n",
      "Zero counts encountered in data! Added a pseudocount of 0.5.\n"
     ]
    },
    {
     "name": "stderr",
     "output_type": "stream",
     "text": [
      "100%|█████████████████████████████████████| 20000/20000 [04:16<00:00, 78.04it/s]\n"
     ]
    },
    {
     "name": "stdout",
     "output_type": "stream",
     "text": [
      "MCMC sampling finished. (319.279 sec)\n",
      "Acceptance rate: 71.9%\n",
      "Converged!\n",
      "Reference cell type: OPC\n",
      "Zero counts encountered in data! Added a pseudocount of 0.5.\n"
     ]
    },
    {
     "name": "stderr",
     "output_type": "stream",
     "text": [
      "100%|█████████████████████████████████████| 20000/20000 [04:11<00:00, 79.41it/s]\n"
     ]
    },
    {
     "name": "stdout",
     "output_type": "stream",
     "text": [
      "MCMC sampling finished. (313.973 sec)\n",
      "Acceptance rate: 45.8%\n",
      "Did not achieve acceptance threshold, trying again\n",
      "Reference cell type: OPC\n",
      "Zero counts encountered in data! Added a pseudocount of 0.5.\n"
     ]
    },
    {
     "name": "stderr",
     "output_type": "stream",
     "text": [
      "100%|█████████████████████████████████████| 20000/20000 [04:03<00:00, 81.97it/s]\n"
     ]
    },
    {
     "name": "stdout",
     "output_type": "stream",
     "text": [
      "MCMC sampling finished. (305.608 sec)\n",
      "Acceptance rate: 72.4%\n",
      "Converged!\n",
      "Reference cell type: Oligo\n",
      "Zero counts encountered in data! Added a pseudocount of 0.5.\n"
     ]
    },
    {
     "name": "stderr",
     "output_type": "stream",
     "text": [
      "100%|█████████████████████████████████████| 20000/20000 [04:01<00:00, 82.74it/s]\n"
     ]
    },
    {
     "name": "stdout",
     "output_type": "stream",
     "text": [
      "MCMC sampling finished. (303.125 sec)\n",
      "Acceptance rate: 24.6%\n",
      "Did not achieve acceptance threshold, trying again\n",
      "Reference cell type: Oligo\n",
      "Zero counts encountered in data! Added a pseudocount of 0.5.\n"
     ]
    },
    {
     "name": "stderr",
     "output_type": "stream",
     "text": [
      "100%|█████████████████████████████████████| 20000/20000 [04:04<00:00, 81.96it/s]\n"
     ]
    },
    {
     "name": "stdout",
     "output_type": "stream",
     "text": [
      "MCMC sampling finished. (306.480 sec)\n",
      "Acceptance rate: 48.3%\n",
      "Did not achieve acceptance threshold, trying again\n",
      "Reference cell type: Oligo\n",
      "Zero counts encountered in data! Added a pseudocount of 0.5.\n"
     ]
    },
    {
     "name": "stderr",
     "output_type": "stream",
     "text": [
      "100%|█████████████████████████████████████| 20000/20000 [04:09<00:00, 80.06it/s]\n"
     ]
    },
    {
     "name": "stdout",
     "output_type": "stream",
     "text": [
      "MCMC sampling finished. (311.986 sec)\n",
      "Acceptance rate: 42.0%\n",
      "Did not achieve acceptance threshold, trying again\n",
      "Reference cell type: Oligo\n",
      "Zero counts encountered in data! Added a pseudocount of 0.5.\n"
     ]
    },
    {
     "name": "stderr",
     "output_type": "stream",
     "text": [
      "100%|█████████████████████████████████████| 20000/20000 [04:01<00:00, 82.79it/s]\n"
     ]
    },
    {
     "name": "stdout",
     "output_type": "stream",
     "text": [
      "MCMC sampling finished. (305.036 sec)\n",
      "Acceptance rate: 69.1%\n",
      "Converged!\n",
      "Reference cell type: VLMC\n",
      "Zero counts encountered in data! Added a pseudocount of 0.5.\n"
     ]
    },
    {
     "name": "stderr",
     "output_type": "stream",
     "text": [
      "100%|█████████████████████████████████████| 20000/20000 [04:01<00:00, 82.90it/s]\n"
     ]
    },
    {
     "name": "stdout",
     "output_type": "stream",
     "text": [
      "MCMC sampling finished. (303.941 sec)\n",
      "Acceptance rate: 49.5%\n",
      "Did not achieve acceptance threshold, trying again\n",
      "Reference cell type: VLMC\n",
      "Zero counts encountered in data! Added a pseudocount of 0.5.\n"
     ]
    },
    {
     "name": "stderr",
     "output_type": "stream",
     "text": [
      "100%|█████████████████████████████████████| 20000/20000 [04:09<00:00, 80.09it/s]\n"
     ]
    },
    {
     "name": "stdout",
     "output_type": "stream",
     "text": [
      "MCMC sampling finished. (312.378 sec)\n",
      "Acceptance rate: 41.0%\n",
      "Did not achieve acceptance threshold, trying again\n",
      "Reference cell type: VLMC\n",
      "Zero counts encountered in data! Added a pseudocount of 0.5.\n"
     ]
    },
    {
     "name": "stderr",
     "output_type": "stream",
     "text": [
      " 63%|███████████████████████▍             | 12676/20000 [02:36<01:26, 84.39it/s]"
     ]
    }
   ],
   "source": [
    "region = \"cross_areal\"\n",
    "formula = \"sex + \"\n",
    "covariates = [\"library_prep\", \"sex\", \"donor\", \"region\"]\n",
    "tests = [\"region\"]\n",
    "labels_keys=[\"cross_area_subclass\", \"cross_area_cluster\"]\n",
    "run_scCODA(\n",
    "    cell_count=cell_count,\n",
    "    random_effect=\"library_prep\",\n",
    "    split_key=\"class\",\n",
    "    split_value=[\"non-neuronal\"],\n",
    "    labels_keys=labels_keys,\n",
    "    region=region,\n",
    "    covariates=covariates,\n",
    "    tests=tests,\n",
    "    formula=formula,\n",
    "    figsize=(20,6)\n",
    ")"
   ]
  },
  {
   "cell_type": "code",
   "execution_count": 9,
   "id": "0691ee24-82ec-46c7-b47c-d29d955ae98b",
   "metadata": {
    "tags": []
   },
   "outputs": [
    {
     "name": "stdout",
     "output_type": "stream",
     "text": [
      "1\n"
     ]
    }
   ],
   "source": [
    "plt.rcParams['figure.figsize'] = (3.26,6)\n",
    "print(\"1\")\n",
    "dend_order = pd.read_csv(\"dend_order_glia.csv\", header=None)"
   ]
  },
  {
   "cell_type": "code",
   "execution_count": 11,
   "id": "5bfa5a73-f304-4aa1-9ebf-62418462e7ec",
   "metadata": {},
   "outputs": [
    {
     "ename": "NameError",
     "evalue": "name 'tests' is not defined",
     "output_type": "error",
     "traceback": [
      "\u001b[0;31m---------------------------------------------------------------------------\u001b[0m",
      "\u001b[0;31mNameError\u001b[0m                                 Traceback (most recent call last)",
      "Cell \u001b[0;32mIn[11], line 1\u001b[0m\n\u001b[0;32m----> 1\u001b[0m \u001b[43mtests\u001b[49m\n",
      "\u001b[0;31mNameError\u001b[0m: name 'tests' is not defined"
     ]
    }
   ],
   "source": [
    "tests"
   ]
  },
  {
   "cell_type": "code",
   "execution_count": 12,
   "id": "44ece81e-329a-435b-9c37-cbeaae72109a",
   "metadata": {
    "tags": []
   },
   "outputs": [
    {
     "name": "stdout",
     "output_type": "stream",
     "text": [
      "2\n",
      "3\n"
     ]
    }
   ],
   "source": [
    "print(\"2\")\n",
    "plot_size = {\"class\": [-1, 1], \"cross_area_subclass\": [-1.75, 1.75], \"cross_area_cluster\": [-6, 6]}\n",
    "plot_order = {\"cross_area_cluster\": dend_order.iloc[:, 0].to_list()}\n",
    "print(\"3\")"
   ]
  },
  {
   "cell_type": "code",
   "execution_count": 17,
   "id": "65b74e7a-3372-422f-9348-6fe5dac1125c",
   "metadata": {
    "tags": []
   },
   "outputs": [],
   "source": [
    "plot_colors = {}\n",
    "covariate_order = [\"FPPFC\", \"V1\", \"ITG\", \"DLPFC\", \"VLPFC\", \"M1\", \"S1\", \"S1E\", \n",
    "\"PoCG\", \"ANG\", \"ACC\", \"SPL\", \"SMG\", \"A1\", \"MTG\", \"sex[T.Male]\"]\n",
    "drop_covariates = [\"sex[T.Male]\"]"
   ]
  },
  {
   "cell_type": "code",
   "execution_count": 19,
   "id": "217ca7b3-e9e5-4559-b64a-0e3b6b02451f",
   "metadata": {
    "tags": []
   },
   "outputs": [
    {
     "name": "stdout",
     "output_type": "stream",
     "text": [
      "region\n",
      "cross_area_subclass\n",
      "output/cross_areal/region/DLPFC/non-neuronal_cross_area_subclass_results.csv\n",
      "output/cross_areal/region/M1/non-neuronal_cross_area_subclass_results.csv\n",
      "output/cross_areal/region/MTG/non-neuronal_cross_area_subclass_results.csv\n",
      "output/cross_areal/region/ANG/non-neuronal_cross_area_subclass_results.csv\n",
      "output/cross_areal/region/FPPFC/non-neuronal_cross_area_subclass_results.csv\n",
      "output/cross_areal/region/ACC/non-neuronal_cross_area_subclass_results.csv\n",
      "output/cross_areal/region/A1/non-neuronal_cross_area_subclass_results.csv\n",
      "output/cross_areal/region/ITG/non-neuronal_cross_area_subclass_results.csv\n"
     ]
    },
    {
     "data": {
      "image/png": "[encoded data removed]",
      "text/plain": [
       "<Figure size 326x600 with 1 Axes>"
      ]
     },
     "metadata": {},
     "output_type": "display_data"
    },
    {
     "name": "stderr",
     "output_type": "stream",
     "text": [
      "/tmp/ipykernel_1420335/4079723822.py:39: FutureWarning: The default of observed=False is deprecated and will be changed to True in a future version of pandas. Pass observed=False to retain current behavior or observed=True to adopt the future default and silence this warning.\n",
      "  tmp = results_table.loc[:, [\"Covariate\", \"Cell Type\", \"Final Parameter\"]].groupby([\"Covariate\", \"Cell Type\"]).mean().reset_index()\n",
      "Traceback (most recent call last):\n",
      "  File \"/home/luomeng/miniconda3/envs/sccoda/lib/python3.9/site-packages/IPython/core/interactiveshell.py\", line 3526, in run_code\n",
      "    exec(code_obj, self.user_global_ns, self.user_ns)\n",
      "  File \"/tmp/ipykernel_1420335/4079723822.py\", line 48, in <module>\n",
      "    );        plt.savefig(os.path.join(pwd, \"output\", \"figures\", \"glia_\" + j + \"_\" + k + \"_effect_size_unfiltered.pdf\"), bbox_inches=\"tight\")\n",
      "  File \"/home/luomeng/miniconda3/envs/sccoda/lib/python3.9/site-packages/matplotlib/pyplot.py\", line 1228, in savefig\n",
      "    res = fig.savefig(*args, **kwargs)  # type: ignore[func-returns-value]\n",
      "  File \"/home/luomeng/miniconda3/envs/sccoda/lib/python3.9/site-packages/matplotlib/figure.py\", line 3395, in savefig\n",
      "    self.canvas.print_figure(fname, **kwargs)\n",
      "  File \"/home/luomeng/miniconda3/envs/sccoda/lib/python3.9/site-packages/matplotlib/backend_bases.py\", line 2204, in print_figure\n",
      "    result = print_method(\n",
      "  File \"/home/luomeng/miniconda3/envs/sccoda/lib/python3.9/site-packages/matplotlib/backend_bases.py\", line 2054, in <lambda>\n",
      "    print_method = functools.wraps(meth)(lambda *args, **kwargs: meth(\n",
      "  File \"/home/luomeng/miniconda3/envs/sccoda/lib/python3.9/site-packages/matplotlib/backends/backend_pdf.py\", line 2792, in print_pdf\n",
      "    file = PdfFile(filename, metadata=metadata)\n",
      "  File \"/home/luomeng/miniconda3/envs/sccoda/lib/python3.9/site-packages/matplotlib/backends/backend_pdf.py\", line 688, in __init__\n",
      "    fh, opened = cbook.to_filehandle(filename, \"wb\", return_opened=True)\n",
      "  File \"/home/luomeng/miniconda3/envs/sccoda/lib/python3.9/site-packages/matplotlib/cbook.py\", line 483, in to_filehandle\n",
      "    fh = open(fname, flag, encoding=encoding)\n",
      "FileNotFoundError: [Errno 2] No such file or directory: '/media/desk16/luomeng/data/SnRNA/output/figures/glia_region_cross_area_subclass_effect_size_unfiltered.pdf'\n",
      "\n",
      "During handling of the above exception, another exception occurred:\n",
      "\n",
      "Traceback (most recent call last):\n",
      "  File \"/home/luomeng/miniconda3/envs/sccoda/lib/python3.9/site-packages/IPython/core/interactiveshell.py\", line 2120, in showtraceback\n",
      "    stb = self.InteractiveTB.structured_traceback(\n",
      "  File \"/home/luomeng/miniconda3/envs/sccoda/lib/python3.9/site-packages/IPython/core/ultratb.py\", line 1435, in structured_traceback\n",
      "    return FormattedTB.structured_traceback(\n",
      "  File \"/home/luomeng/miniconda3/envs/sccoda/lib/python3.9/site-packages/IPython/core/ultratb.py\", line 1326, in structured_traceback\n",
      "    return VerboseTB.structured_traceback(\n",
      "  File \"/home/luomeng/miniconda3/envs/sccoda/lib/python3.9/site-packages/IPython/core/ultratb.py\", line 1173, in structured_traceback\n",
      "    formatted_exception = self.format_exception_as_a_whole(etype, evalue, etb, number_of_lines_of_context,\n",
      "  File \"/home/luomeng/miniconda3/envs/sccoda/lib/python3.9/site-packages/IPython/core/ultratb.py\", line 1088, in format_exception_as_a_whole\n",
      "    frames.append(self.format_record(record))\n",
      "  File \"/home/luomeng/miniconda3/envs/sccoda/lib/python3.9/site-packages/IPython/core/ultratb.py\", line 970, in format_record\n",
      "    frame_info.lines, Colors, self.has_colors, lvals\n",
      "  File \"/home/luomeng/miniconda3/envs/sccoda/lib/python3.9/site-packages/IPython/core/ultratb.py\", line 792, in lines\n",
      "    return self._sd.lines\n",
      "  File \"/home/luomeng/miniconda3/envs/sccoda/lib/python3.9/site-packages/stack_data/utils.py\", line 145, in cached_property_wrapper\n",
      "    value = obj.__dict__[self.func.__name__] = self.func(obj)\n",
      "  File \"/home/luomeng/miniconda3/envs/sccoda/lib/python3.9/site-packages/stack_data/core.py\", line 698, in lines\n",
      "    pieces = self.included_pieces\n",
      "  File \"/home/luomeng/miniconda3/envs/sccoda/lib/python3.9/site-packages/stack_data/utils.py\", line 145, in cached_property_wrapper\n",
      "    value = obj.__dict__[self.func.__name__] = self.func(obj)\n",
      "  File \"/home/luomeng/miniconda3/envs/sccoda/lib/python3.9/site-packages/stack_data/core.py\", line 645, in included_pieces\n",
      "    scope_pieces = self.scope_pieces\n",
      "  File \"/home/luomeng/miniconda3/envs/sccoda/lib/python3.9/site-packages/stack_data/utils.py\", line 145, in cached_property_wrapper\n",
      "    value = obj.__dict__[self.func.__name__] = self.func(obj)\n",
      "  File \"/home/luomeng/miniconda3/envs/sccoda/lib/python3.9/site-packages/stack_data/core.py\", line 585, in scope_pieces\n",
      "    for piece in self.source.pieces\n",
      "  File \"/home/luomeng/miniconda3/envs/sccoda/lib/python3.9/site-packages/stack_data/utils.py\", line 145, in cached_property_wrapper\n",
      "    value = obj.__dict__[self.func.__name__] = self.func(obj)\n",
      "  File \"/home/luomeng/miniconda3/envs/sccoda/lib/python3.9/site-packages/stack_data/core.py\", line 90, in pieces\n",
      "    return list(self._clean_pieces())\n",
      "  File \"/home/luomeng/miniconda3/envs/sccoda/lib/python3.9/site-packages/stack_data/core.py\", line 114, in _clean_pieces\n",
      "    raise AssertionError(\"Pieces mismatches: %s\" % mismatches)\n",
      "AssertionError: Pieces mismatches: [{48, 49}, {60, 61}]\n"
     ]
    },
    {
     "name": "stdout",
     "output_type": "stream",
     "text": [
      "Unexpected exception formatting exception. Falling back to standard exception\n"
     ]
    },
    {
     "data": {
      "image/png": "[encoded data removed]",
      "text/plain": [
       "<Figure size 326x600 with 2 Axes>"
      ]
     },
     "metadata": {},
     "output_type": "display_data"
    }
   ],
   "source": [
    "for j in tests:\n",
    "    print(j)\n",
    "    for k in labels_keys:\n",
    "        print(k)\n",
    "        results_tables = glob.glob(os.path.join(\"output\", region, j, \"**\", \"non-neuronal_\" + k + \"_results.csv\"))\n",
    "        results_table = False\n",
    "        for z in results_tables:\n",
    "            print(z)\n",
    "            tmp = pd.read_csv(z, index_col=0)\n",
    "            tmp[\"Covariate\"] = [re.sub(\"C\\([^,]+, Treatment\\('[^\\)]+'\\)\\)\\[T.([^\\]]+)\\]$\", \"\\\\1\", y) for y in tmp[\"Covariate\"]]\n",
    "            try:\n",
    "                results_table = pd.concat([results_table, tmp], axis=0)\n",
    "            except:\n",
    "                results_table = tmp.copy()\n",
    "        \n",
    "        results_table[\"Credible\"] = results_table[\"Final Parameter\"] != 0\n",
    "        \n",
    "        try:\n",
    "            results_table[\"Cell Type\"] = results_table[\"Cell Type\"].astype(\"category\")\n",
    "            results_table[\"Cell Type\"].cat.reorder_categories(plot_order[k], inplace=True) \n",
    "        except:\n",
    "            pass\n",
    "        \n",
    "        try:\n",
    "            results_table[\"Covariate\"] = results_table[\"Covariate\"].astype(\"category\")\n",
    "            results_table[\"Covariate\"].cat.reorder_categories(covariate_order, inplace=True)\n",
    "        except:\n",
    "            pass\n",
    "        \n",
    "        try:\n",
    "            results_table = results_table.loc[[l not in drop_covariates for l in results_table[\"Covariate\"]], :]\n",
    "            results_table[\"Covariate\"].cat.remove_unused_categories(inplace=True)\n",
    "        except:\n",
    "            pass\n",
    "        \n",
    "        sns.histplot(results_table[\"Inclusion probability\"]);\n",
    "        plt.show();\n",
    "        \n",
    "        tmp = results_table.loc[:, [\"Covariate\", \"Cell Type\", \"Final Parameter\"]].groupby([\"Covariate\", \"Cell Type\"]).mean().reset_index()\n",
    "        tmp.columns = [\"Covariate\", \"Cell Type\", \"Effect Size\"]\n",
    "        ax = sns.heatmap(\n",
    "            tmp.pivot(index=\"Covariate\", columns=\"Cell Type\", values=\"Effect Size\"),\n",
    "            center=0,\n",
    "            cmap=\"RdBu_r\",\n",
    "            vmin=plot_size[k][0],\n",
    "            vmax=plot_size[k][1],\n",
    "            xticklabels=True\n",
    "        );        plt.savefig(os.path.join(pwd, \"output\", \"figures\", \"glia_\" + j + \"_\" + k + \"_effect_size_unfiltered.pdf\"), bbox_inches=\"tight\")\n",
    "        plt.show();\n",
    "        tmp.to_csv(os.path.join(pwd, \"output\", \"figures\", \"glia_\" + j + \"_\" + k + \"_effect_size_unfiltered.csv\"))\n",
    "        \n",
    "        tmp2 = results_table.loc[:, [\"Covariate\", \"Cell Type\", \"Inclusion probability\"]].groupby([\"Covariate\", \"Cell Type\"]).mean().reset_index()\n",
    "        tmp.loc[tmp2[\"Inclusion probability\"] < 0.8, \"Effect Size\"] = 0\n",
    "        ax = sns.heatmap(\n",
    "            tmp.pivot(index=\"Covariate\", columns=\"Cell Type\", values=\"Effect Size\"),\n",
    "            center=0, cmap=\"RdBu_r\",\n",
    "            vmin=plot_size[k][0],\n",
    "            vmax=plot_size[k][1],\n",
    "            xticklabels=True\n",
    "        );        plt.savefig(os.path.join(pwd, \"output\", \"figures\", \"glia_\" + j + \"_\" + k + \"_effect_size_p_gt_0.8.pdf\"), bbox_inches=\"tight\")\n",
    "        plt.show();\n",
    "        tmp.to_csv(os.path.join(pwd, \"output\", \"figures\", \"glia_\" + j + \"_\" + k + \"_effect_size_p_gt_0.8.csv\"))\n",
    "            \n",
    "plt.rcParams['figure.figsize'] = (6,4)"
   ]
  }
 ],
 "metadata": {
  "kernelspec": {
   "display_name": "sccoda",
   "language": "python",
   "name": "sccoda"
  },
  "language_info": {
   "codemirror_mode": {
    "name": "ipython",
    "version": 3
   },
   "file_extension": ".py",
   "mimetype": "text/x-python",
   "name": "python",
   "nbconvert_exporter": "python",
   "pygments_lexer": "ipython3",
   "version": "3.9.19"
  }
 },
 "nbformat": 4,
 "nbformat_minor": 5
}
