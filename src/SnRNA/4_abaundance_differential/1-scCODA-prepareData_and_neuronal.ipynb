{
 "cells": [
  {
   "cell_type": "markdown",
   "id": "7507eebc-0f06-461e-b5c1-4344e3420f39",
   "metadata": {},
   "source": [
    "### Load required libraries and data"
   ]
  },
  {
   "cell_type": "code",
   "execution_count": 1,
   "id": "3879a8e8-9b81-4d3a-b0da-7330a9d48d1c",
   "metadata": {
    "scrolled": true
   },
   "outputs": [
    {
     "name": "stderr",
     "output_type": "stream",
     "text": [
      "2024-10-06 17:51:19.150513: I tensorflow/core/util/port.cc:110] oneDNN custom operations are on. You may see slightly different numerical results due to floating-point round-off errors from different computation orders. To turn them off, set the environment variable `TF_ENABLE_ONEDNN_OPTS=0`.\n",
      "2024-10-06 17:51:19.938109: I tensorflow/tsl/cuda/cudart_stub.cc:28] Could not find cuda drivers on your machine, GPU will not be used.\n",
      "2024-10-06 17:51:21.492047: I tensorflow/tsl/cuda/cudart_stub.cc:28] Could not find cuda drivers on your machine, GPU will not be used.\n",
      "2024-10-06 17:51:21.493619: I tensorflow/core/platform/cpu_feature_guard.cc:182] This TensorFlow binary is optimized to use available CPU instructions in performance-critical operations.\n",
      "To enable the following instructions: AVX2 AVX512F AVX512_VNNI FMA, in other operations, rebuild TensorFlow with the appropriate compiler flags.\n",
      "2024-10-06 17:51:27.104120: W tensorflow/compiler/tf2tensorrt/utils/py_utils.cc:38] TF-TRT Warning: Could not find TensorRT\n"
     ]
    }
   ],
   "source": [
    "import os\n",
    "import anndata as ad\n",
    "import pandas as pd\n",
    "import numpy as np\n",
    "import scipy as sp\n",
    "import seaborn as sns\n",
    "import scanpy as sc\n",
    "import copy\n",
    "import re\n",
    "import glob\n",
    "import pickle\n",
    "import matplotlib.pyplot as plt\n",
    "%matplotlib inline\n",
    "import warnings\n",
    "from datetime import datetime\n",
    "from igraph import *\n",
    "from sccoda.util import comp_ana as mod\n",
    "from sccoda.util import cell_composition_data as dat\n",
    "from sccoda.util import data_visualization as viz\n",
    "import arviz as az\n",
    "\n",
    "pwd = os.getcwd()"
   ]
  },
  {
   "cell_type": "code",
   "execution_count": null,
   "id": "6a361b8a-b6e9-49de-888e-8100d228252e",
   "metadata": {},
   "outputs": [],
   "source": [
    "# generate neuron anndata"
   ]
  },
  {
   "cell_type": "code",
   "execution_count": null,
   "id": "f5cce762-16bc-40af-8d99-56e77ea87e4d",
   "metadata": {},
   "outputs": [],
   "source": [
    "#region = \"cross_areal\"\n",
    "formula = \"sex + \"\n",
    "covariates = [\"library_prep\", \"sex\", \"donor\", \"region\"]\n",
    "tests = [\"region\"]\n",
    "labels_keys=[\"subclass\", \"cluster\"]\n",
    "cell_count = pd.read_csv(\"./SnRNA_Meta.csv\")\n",
    "split_key = \"class\"\n",
    "split_value = [\"excitatory\",\"inhibitary\"]\n",
    "random_effect = \"library_prep\"\n",
    "for j in labels_keys:\n",
    "    print(j)\n",
    "    cell_count = cell_count.loc[[i in split_value for i in cell_count[split_key]], :]\n",
    "    counts = sp.sparse.csr_matrix(np.random.poisson(1, size=(cell_count.shape[0], 0)), dtype=np.float32)\n",
    "    adata = ad.AnnData(counts)\n",
    "    adata.obs_names = cell_count.index\n",
    "    adata.obs = cell_count\n",
    "\n",
    "    abundances = dat.from_scanpy(\n",
    "        adata,\n",
    "        cell_type_identifier=j,\n",
    "        sample_identifier=random_effect,\n",
    "    )\n",
    "    tmp = adata.obs.loc[:, covariates]\n",
    "    tmp.drop_duplicates(inplace=True)\n",
    "    tmp.index = tmp.library_prep\n",
    "    tmp.drop([random_effect], axis=1, inplace=True)\n",
    "    abundances.obs = tmp.loc[abundances.obs.index, :]\n",
    "    abundances.write_h5ad(\"neuron\"+ j + \".h5ad\")"
   ]
  },
  {
   "cell_type": "code",
   "execution_count": null,
   "id": "1598434e-9a6e-40e1-a6c7-eb70f069d4a9",
   "metadata": {},
   "outputs": [],
   "source": [
    "# 生成non-neuron的anndata"
   ]
  },
  {
   "cell_type": "code",
   "execution_count": 10,
   "id": "ab811ea1-0d7e-456c-b0f7-107170341941",
   "metadata": {
    "scrolled": true
   },
   "outputs": [
    {
     "name": "stdout",
     "output_type": "stream",
     "text": [
      "subclass\n"
     ]
    },
    {
     "name": "stderr",
     "output_type": "stream",
     "text": [
      "/mnt/hpc/home/analysis/luomeng/miniconda3/envs/sccoda/lib/python3.8/site-packages/anndata/_core/anndata.py:864: UserWarning: \n",
      "AnnData expects .obs.index to contain strings, but got values like:\n",
      "    [0, 1, 2, 3, 4]\n",
      "\n",
      "    Inferred to be: integer\n",
      "\n",
      "  names = self._prep_dim_index(names, \"obs\")\n",
      "/mnt/hpc/home/analysis/luomeng/miniconda3/envs/sccoda/lib/python3.8/site-packages/anndata/_core/anndata.py:788: UserWarning: \n",
      "AnnData expects .obs.index to contain strings, but got values like:\n",
      "    [0, 1, 2, 3, 4]\n",
      "\n",
      "    Inferred to be: integer\n",
      "\n",
      "  value_idx = self._prep_dim_index(value.index, attr)\n"
     ]
    },
    {
     "name": "stdout",
     "output_type": "stream",
     "text": [
      "No covariate information specified!\n",
      "cluster\n",
      "No covariate information specified!\n"
     ]
    },
    {
     "name": "stderr",
     "output_type": "stream",
     "text": [
      "/mnt/hpc/home/analysis/luomeng/miniconda3/envs/sccoda/lib/python3.8/site-packages/anndata/_core/anndata.py:864: UserWarning: \n",
      "AnnData expects .obs.index to contain strings, but got values like:\n",
      "    [0, 1, 2, 3, 4]\n",
      "\n",
      "    Inferred to be: integer\n",
      "\n",
      "  names = self._prep_dim_index(names, \"obs\")\n",
      "/mnt/hpc/home/analysis/luomeng/miniconda3/envs/sccoda/lib/python3.8/site-packages/anndata/_core/anndata.py:788: UserWarning: \n",
      "AnnData expects .obs.index to contain strings, but got values like:\n",
      "    [0, 1, 2, 3, 4]\n",
      "\n",
      "    Inferred to be: integer\n",
      "\n",
      "  value_idx = self._prep_dim_index(value.index, attr)\n"
     ]
    }
   ],
   "source": [
    "#region = \"cross_areal\"\n",
    "formula = \"sex + \"\n",
    "covariates = [\"library_prep\", \"sex\", \"donor\", \"region\"]\n",
    "tests = [\"region\"]\n",
    "labels_keys=[\"subclass\", \"cluster\"]\n",
    "cell_count = pd.read_csv(\"./SnRNA_Meta.csv\")\n",
    "split_key = \"class\"\n",
    "split_value = [\"non-neuronal\"]\n",
    "random_effect = \"library_prep\"\n",
    "for j in labels_keys:\n",
    "    print(j)\n",
    "    cell_count = cell_count.loc[[i in split_value for i in cell_count[split_key]], :]\n",
    "    counts = sp.sparse.csr_matrix(np.random.poisson(1, size=(cell_count.shape[0], 0)), dtype=np.float32)\n",
    "    adata = ad.AnnData(counts)\n",
    "    adata.obs_names = cell_count.index\n",
    "    adata.obs = cell_count\n",
    "\n",
    "    abundances = dat.from_scanpy(\n",
    "        adata,\n",
    "        cell_type_identifier=j,\n",
    "        sample_identifier=random_effect,\n",
    "    )\n",
    "    tmp = adata.obs.loc[:, covariates]\n",
    "    tmp.drop_duplicates(inplace=True)\n",
    "    tmp.index = tmp.library_prep\n",
    "    tmp.drop([random_effect], axis=1, inplace=True)\n",
    "    abundances.obs = tmp.loc[abundances.obs.index, :]\n",
    "    abundances.write_h5ad(\"non\"+ j + \".h5ad\")"
   ]
  }
 ],
 "metadata": {
  "kernelspec": {
   "display_name": "sccoda",
   "language": "python",
   "name": "sccoda"
  },
  "language_info": {
   "codemirror_mode": {
    "name": "ipython",
    "version": 3
   },
   "file_extension": ".py",
   "mimetype": "text/x-python",
   "name": "python",
   "nbconvert_exporter": "python",
   "pygments_lexer": "ipython3",
   "version": "3.8.19"
  }
 },
 "nbformat": 4,
 "nbformat_minor": 5
}
